{
 "cells": [
  {
   "cell_type": "markdown",
   "id": "bbac10f9",
   "metadata": {},
   "source": [
    "***Case study discription***\n",
    "\n",
    "In this case study, a dataset of 7,500 companies that includes the company name and a text description of its activity is investigated. A training set of 5,000 companies is provided with their respective categorization labels. A testing set of 2,500 companies is provided without their labels.\n",
    "The objective is to to predict the categorization labels of the 2,500 companies in the test set using machine learning techniques. "
   ]
  },
  {
   "cell_type": "code",
   "execution_count": 2,
   "id": "13186891",
   "metadata": {},
   "outputs": [],
   "source": [
    "#math\n",
    "import pandas as pd\n",
    "import numpy as np\n",
    "#visualization\n",
    "import matplotlib.pyplot as plt\n",
    "#preproc\n",
    "from nltk.stem.wordnet import WordNetLemmatizer\n",
    "from nltk.tokenize import word_tokenize\n",
    "from nltk.corpus import stopwords \n",
    "import string\n",
    "#ML\n",
    "from sklearn.feature_extraction.text import TfidfVectorizer\n",
    "from sklearn.preprocessing import LabelEncoder\n",
    "from sklearn.linear_model import LogisticRegression\n",
    "from sklearn.model_selection import cross_validate, GridSearchCV\n",
    "from sklearn.naive_bayes import MultinomialNB\n",
    "from sklearn.pipeline import Pipeline\n",
    "from sklearn.svm import SVC\n",
    "from sklearn.ensemble import RandomForestClassifier"
   ]
  },
  {
   "cell_type": "code",
   "execution_count": 3,
   "id": "8e4c606d",
   "metadata": {},
   "outputs": [],
   "source": [
    "#importing dataset\n",
    "data = pd.read_csv('data_train.csv')\n",
    "data_test = pd.read_csv('data_eval.csv')"
   ]
  },
  {
   "cell_type": "markdown",
   "id": "3088f8b7",
   "metadata": {},
   "source": [
    "## Data Exploration"
   ]
  },
  {
   "cell_type": "code",
   "execution_count": 9,
   "id": "c56926a1",
   "metadata": {},
   "outputs": [
    {
     "data": {
      "text/html": [
       "<div>\n",
       "<style scoped>\n",
       "    .dataframe tbody tr th:only-of-type {\n",
       "        vertical-align: middle;\n",
       "    }\n",
       "\n",
       "    .dataframe tbody tr th {\n",
       "        vertical-align: top;\n",
       "    }\n",
       "\n",
       "    .dataframe thead th {\n",
       "        text-align: right;\n",
       "    }\n",
       "</style>\n",
       "<table border=\"1\" class=\"dataframe\">\n",
       "  <thead>\n",
       "    <tr style=\"text-align: right;\">\n",
       "      <th></th>\n",
       "      <th>id</th>\n",
       "      <th>name</th>\n",
       "      <th>description</th>\n",
       "      <th>industry</th>\n",
       "    </tr>\n",
       "  </thead>\n",
       "  <tbody>\n",
       "    <tr>\n",
       "      <th>0</th>\n",
       "      <td>1799</td>\n",
       "      <td>Quikr</td>\n",
       "      <td>Quikr is a free classifieds and online marketp...</td>\n",
       "      <td>PropTech</td>\n",
       "    </tr>\n",
       "    <tr>\n",
       "      <th>1</th>\n",
       "      <td>613</td>\n",
       "      <td>CommonFloor.com</td>\n",
       "      <td>CommonFloor is a leading real estate platform ...</td>\n",
       "      <td>PropTech</td>\n",
       "    </tr>\n",
       "    <tr>\n",
       "      <th>2</th>\n",
       "      <td>2321</td>\n",
       "      <td>Home24</td>\n",
       "      <td>Home24 SE markets, sells, and ships furniture ...</td>\n",
       "      <td>PropTech</td>\n",
       "    </tr>\n",
       "    <tr>\n",
       "      <th>3</th>\n",
       "      <td>3300</td>\n",
       "      <td>Loft</td>\n",
       "      <td>Loft develops a real-estate platform intended ...</td>\n",
       "      <td>PropTech</td>\n",
       "    </tr>\n",
       "    <tr>\n",
       "      <th>4</th>\n",
       "      <td>4005</td>\n",
       "      <td>Opendoor</td>\n",
       "      <td>Opendoor makes it possible to receive an offer...</td>\n",
       "      <td>PropTech</td>\n",
       "    </tr>\n",
       "  </tbody>\n",
       "</table>\n",
       "</div>"
      ],
      "text/plain": [
       "     id             name                                        description  \\\n",
       "0  1799            Quikr  Quikr is a free classifieds and online marketp...   \n",
       "1   613  CommonFloor.com  CommonFloor is a leading real estate platform ...   \n",
       "2  2321           Home24  Home24 SE markets, sells, and ships furniture ...   \n",
       "3  3300             Loft  Loft develops a real-estate platform intended ...   \n",
       "4  4005         Opendoor  Opendoor makes it possible to receive an offer...   \n",
       "\n",
       "   industry  \n",
       "0  PropTech  \n",
       "1  PropTech  \n",
       "2  PropTech  \n",
       "3  PropTech  \n",
       "4  PropTech  "
      ]
     },
     "execution_count": 9,
     "metadata": {},
     "output_type": "execute_result"
    }
   ],
   "source": [
    "data.head()"
   ]
  },
  {
   "cell_type": "code",
   "execution_count": 7,
   "id": "daa83b3b",
   "metadata": {},
   "outputs": [
    {
     "data": {
      "text/plain": [
       "'Quikr is a free classifieds and online marketplace that helps users to sell, buy, rent, or discover anything across India. Community members can come to their site to find an apartment to live in, sell their old car, bike ,music system, laptop or furniture, promote their small business, find a tuition class or get a break as a model or actor, join a salsa class, get an audience for a local event, buy any item that they might want or have to offer and make new friends while doing all of the above. Their aim is to empower every person in the country to independently connect with buyers and sellers online. Their idea is to consistently keep adding something game-changing and worthwhile to your Quikr experience - whether it is QuikrNXT, the freedom to buy or sell without risking your privacy, or the missed call service, to give Quikr access to the masses who aren’t online today but would have internet access in the near future.'"
      ]
     },
     "execution_count": 7,
     "metadata": {},
     "output_type": "execute_result"
    }
   ],
   "source": [
    "data.description[0]"
   ]
  },
  {
   "cell_type": "code",
   "execution_count": 11,
   "id": "fff10979",
   "metadata": {},
   "outputs": [
    {
     "data": {
      "text/html": [
       "<div>\n",
       "<style scoped>\n",
       "    .dataframe tbody tr th:only-of-type {\n",
       "        vertical-align: middle;\n",
       "    }\n",
       "\n",
       "    .dataframe tbody tr th {\n",
       "        vertical-align: top;\n",
       "    }\n",
       "\n",
       "    .dataframe thead th {\n",
       "        text-align: right;\n",
       "    }\n",
       "</style>\n",
       "<table border=\"1\" class=\"dataframe\">\n",
       "  <thead>\n",
       "    <tr style=\"text-align: right;\">\n",
       "      <th></th>\n",
       "      <th>id</th>\n",
       "      <th>name</th>\n",
       "      <th>description</th>\n",
       "    </tr>\n",
       "  </thead>\n",
       "  <tbody>\n",
       "    <tr>\n",
       "      <th>0</th>\n",
       "      <td>6593</td>\n",
       "      <td>Apex Infosys India</td>\n",
       "      <td>Apex Infosys is a leading provider of automati...</td>\n",
       "    </tr>\n",
       "    <tr>\n",
       "      <th>1</th>\n",
       "      <td>7219</td>\n",
       "      <td>Babcock Ntuthuko Engineering</td>\n",
       "      <td>Babcock Ntuthuko Engineering is a line of busi...</td>\n",
       "    </tr>\n",
       "    <tr>\n",
       "      <th>2</th>\n",
       "      <td>5506</td>\n",
       "      <td>BMI Group</td>\n",
       "      <td>BMI Group is part of the Standard Industries f...</td>\n",
       "    </tr>\n",
       "    <tr>\n",
       "      <th>3</th>\n",
       "      <td>7251</td>\n",
       "      <td>Cellectar Biosciences</td>\n",
       "      <td>Cellectar Biosciences, a radiopharmaceutical c...</td>\n",
       "    </tr>\n",
       "    <tr>\n",
       "      <th>4</th>\n",
       "      <td>6215</td>\n",
       "      <td>ConnectPoint</td>\n",
       "      <td>ConnectPoint is an IT Solutions Provider and D...</td>\n",
       "    </tr>\n",
       "  </tbody>\n",
       "</table>\n",
       "</div>"
      ],
      "text/plain": [
       "     id                          name  \\\n",
       "0  6593            Apex Infosys India   \n",
       "1  7219  Babcock Ntuthuko Engineering   \n",
       "2  5506                     BMI Group   \n",
       "3  7251         Cellectar Biosciences   \n",
       "4  6215                  ConnectPoint   \n",
       "\n",
       "                                         description  \n",
       "0  Apex Infosys is a leading provider of automati...  \n",
       "1  Babcock Ntuthuko Engineering is a line of busi...  \n",
       "2  BMI Group is part of the Standard Industries f...  \n",
       "3  Cellectar Biosciences, a radiopharmaceutical c...  \n",
       "4  ConnectPoint is an IT Solutions Provider and D...  "
      ]
     },
     "execution_count": 11,
     "metadata": {},
     "output_type": "execute_result"
    }
   ],
   "source": [
    "data_test.head()"
   ]
  },
  {
   "cell_type": "code",
   "execution_count": 12,
   "id": "fe83820a",
   "metadata": {},
   "outputs": [
    {
     "name": "stdout",
     "output_type": "stream",
     "text": [
      "<class 'pandas.core.frame.DataFrame'>\n",
      "RangeIndex: 5000 entries, 0 to 4999\n",
      "Data columns (total 4 columns):\n",
      " #   Column       Non-Null Count  Dtype \n",
      "---  ------       --------------  ----- \n",
      " 0   id           5000 non-null   int64 \n",
      " 1   name         5000 non-null   object\n",
      " 2   description  5000 non-null   object\n",
      " 3   industry     5000 non-null   object\n",
      "dtypes: int64(1), object(3)\n",
      "memory usage: 156.4+ KB\n"
     ]
    }
   ],
   "source": [
    "data.info()"
   ]
  },
  {
   "cell_type": "code",
   "execution_count": 13,
   "id": "34b12071",
   "metadata": {},
   "outputs": [
    {
     "data": {
      "text/plain": [
       "(5000, 4)"
      ]
     },
     "execution_count": 13,
     "metadata": {},
     "output_type": "execute_result"
    }
   ],
   "source": [
    "data.shape"
   ]
  },
  {
   "cell_type": "code",
   "execution_count": 14,
   "id": "59e2ea06",
   "metadata": {},
   "outputs": [
    {
     "data": {
      "text/plain": [
       "(2500, 3)"
      ]
     },
     "execution_count": 14,
     "metadata": {},
     "output_type": "execute_result"
    }
   ],
   "source": [
    "data_test.shape"
   ]
  },
  {
   "cell_type": "code",
   "execution_count": 15,
   "id": "dfd5021a",
   "metadata": {},
   "outputs": [
    {
     "data": {
      "text/plain": [
       "id             0\n",
       "name           0\n",
       "description    0\n",
       "industry       0\n",
       "dtype: int64"
      ]
     },
     "execution_count": 15,
     "metadata": {},
     "output_type": "execute_result"
    }
   ],
   "source": [
    "data.isnull().sum()"
   ]
  },
  {
   "cell_type": "markdown",
   "id": "26f565b1",
   "metadata": {},
   "source": [
    "Checking the balance of the industry classes"
   ]
  },
  {
   "cell_type": "code",
   "execution_count": 16,
   "id": "ecf7db01",
   "metadata": {},
   "outputs": [
    {
     "data": {
      "image/png": "[encoded data removed]",
      "text/plain": [
       "<Figure size 800x600 with 1 Axes>"
      ]
     },
     "metadata": {},
     "output_type": "display_data"
    }
   ],
   "source": [
    "fig = plt.figure(figsize=(8,6))\n",
    "data['industry'].value_counts().plot(kind='bar', ylim=0)\n",
    "plt.show()"
   ]
  },
  {
   "cell_type": "markdown",
   "id": "a075e8fa",
   "metadata": {},
   "source": [
    "## Data Preprocessing"
   ]
  },
  {
   "cell_type": "code",
   "execution_count": 17,
   "id": "2f453524",
   "metadata": {},
   "outputs": [],
   "source": [
    "#extracting raw training feature and target\n",
    "X = data['description']\n",
    "y = data['industry']"
   ]
  },
  {
   "cell_type": "markdown",
   "id": "0006273c",
   "metadata": {},
   "source": [
    "**Data cleaning:** Building a function to clean the description text"
   ]
  },
  {
   "cell_type": "code",
   "execution_count": 18,
   "id": "2126428d",
   "metadata": {},
   "outputs": [],
   "source": [
    "def clean(text):\n",
    "    for punctuation in string.punctuation:\n",
    "        text = text.replace(punctuation, ' ') \n",
    "    lowercased = text.lower() \n",
    "    tokenized = word_tokenize(lowercased) \n",
    "    words_only = [word for word in tokenized if word.isalpha()] \n",
    "    stop_words = set(stopwords.words('english')) \n",
    "    without_stopwords = [word for word in words_only if not word in stop_words] \n",
    "    lemma=WordNetLemmatizer() \n",
    "    lemmatized = [lemma.lemmatize(word) for word in without_stopwords] \n",
    "    cleaned = ' '.join(lemmatized) \n",
    "    return cleaned"
   ]
  },
  {
   "cell_type": "code",
   "execution_count": 19,
   "id": "9408c6fb",
   "metadata": {},
   "outputs": [],
   "source": [
    "X_clean = X.apply(clean)"
   ]
  },
  {
   "cell_type": "markdown",
   "id": "33f9e9b2",
   "metadata": {},
   "source": [
    "Example of cleaned description text"
   ]
  },
  {
   "cell_type": "code",
   "execution_count": 20,
   "id": "8b7147da",
   "metadata": {},
   "outputs": [
    {
     "data": {
      "text/plain": [
       "'quikr free classified online marketplace help user sell buy rent discover anything across india community member come site find apartment live sell old car bike music system laptop furniture promote small business find tuition class get break model actor join salsa class get audience local event buy item might want offer make new friend aim empower every person country independently connect buyer seller online idea consistently keep adding something game changing worthwhile quikr experience whether quikrnxt freedom buy sell without risking privacy missed call service give quikr access mass online today would internet access near future'"
      ]
     },
     "execution_count": 20,
     "metadata": {},
     "output_type": "execute_result"
    }
   ],
   "source": [
    "X_clean[0]"
   ]
  },
  {
   "cell_type": "markdown",
   "id": "242fddd9",
   "metadata": {},
   "source": [
    "**Text representation:** Vectorizing the clean text using TF-IDF text representation. I chose this method instead of bag of words to consider both the frequency and the importance of the words."
   ]
  },
  {
   "cell_type": "code",
   "execution_count": 21,
   "id": "6b95dd5c",
   "metadata": {},
   "outputs": [],
   "source": [
    "vectorizer_tfidf = TfidfVectorizer(max_features=10000)\n",
    "X_tfidf_vectorized = vectorizer_tfidf.fit_transform(X_clean)"
   ]
  },
  {
   "cell_type": "markdown",
   "id": "6608d996",
   "metadata": {},
   "source": [
    "**Target encoding:** using label encoder for multi class target"
   ]
  },
  {
   "cell_type": "code",
   "execution_count": 22,
   "id": "0207fc27",
   "metadata": {},
   "outputs": [],
   "source": [
    "encoder = LabelEncoder()\n",
    "encoder.fit(y) \n",
    "y_encoded = encoder.transform(y)"
   ]
  },
  {
   "cell_type": "code",
   "execution_count": 23,
   "id": "69a78202",
   "metadata": {},
   "outputs": [
    {
     "data": {
      "text/plain": [
       "array([0, 1, 2, 3, 4])"
      ]
     },
     "execution_count": 23,
     "metadata": {},
     "output_type": "execute_result"
    }
   ],
   "source": [
    "np.unique(y_encoded)"
   ]
  },
  {
   "cell_type": "markdown",
   "id": "38620039",
   "metadata": {},
   "source": [
    "## Base Score Benchmark"
   ]
  },
  {
   "cell_type": "code",
   "execution_count": 24,
   "id": "510080e7",
   "metadata": {},
   "outputs": [
    {
     "data": {
      "text/plain": [
       "0.2"
      ]
     },
     "execution_count": 24,
     "metadata": {},
     "output_type": "execute_result"
    }
   ],
   "source": [
    "#choosing the base score to be the probability of selecting a random class from a balanced dataset\n",
    "base_score_benchmark = 1/len(y.unique())\n",
    "base_score_benchmark"
   ]
  },
  {
   "cell_type": "markdown",
   "id": "d4768015",
   "metadata": {},
   "source": [
    "## Modelling"
   ]
  },
  {
   "cell_type": "markdown",
   "id": "4158cb9c",
   "metadata": {},
   "source": [
    "**Modelling strategy:** Starting with a simple and fast model (Naive Bayes classifier) for its simplicity and computational efficiency. I will then proceed to explore Logistic Regression and two more complex models (SVM and Random Forest)"
   ]
  },
  {
   "cell_type": "markdown",
   "id": "0ae35ad9",
   "metadata": {},
   "source": [
    "**Scoring**: choosing F1 Macro scoring to consider both precision and recall while giving equal importance to all classes"
   ]
  },
  {
   "cell_type": "markdown",
   "id": "c44f510d",
   "metadata": {},
   "source": [
    "### Model I: Naive Bayes model"
   ]
  },
  {
   "cell_type": "code",
   "execution_count": 25,
   "id": "7cc4eafb",
   "metadata": {},
   "outputs": [],
   "source": [
    "nb_model = MultinomialNB()"
   ]
  },
  {
   "cell_type": "code",
   "execution_count": 26,
   "id": "41be95b5",
   "metadata": {},
   "outputs": [
    {
     "data": {
      "text/plain": [
       "0.8433128655566605"
      ]
     },
     "execution_count": 26,
     "metadata": {},
     "output_type": "execute_result"
    }
   ],
   "source": [
    "#cross validating\n",
    "nb_model_results = cross_validate(nb_model, X_tfidf_vectorized, y_encoded,cv=5, scoring='f1_macro')\n",
    "nb_model_results['test_score'].mean()"
   ]
  },
  {
   "cell_type": "markdown",
   "id": "f810a5a2",
   "metadata": {},
   "source": [
    "### Model II: Logistic Regressor"
   ]
  },
  {
   "cell_type": "code",
   "execution_count": 27,
   "id": "bc7d1d91",
   "metadata": {},
   "outputs": [],
   "source": [
    "lg_model = LogisticRegression(max_iter=1000)"
   ]
  },
  {
   "cell_type": "code",
   "execution_count": 28,
   "id": "858af555",
   "metadata": {},
   "outputs": [
    {
     "data": {
      "text/plain": [
       "0.8642291807592958"
      ]
     },
     "execution_count": 28,
     "metadata": {},
     "output_type": "execute_result"
    }
   ],
   "source": [
    "#cross validating\n",
    "lg_model_results = cross_validate(lg_model, X_tfidf_vectorized, y_encoded, cv=5, scoring='f1_macro')\n",
    "lg_model_results['test_score'].mean()"
   ]
  },
  {
   "cell_type": "markdown",
   "id": "dc91bbc7",
   "metadata": {},
   "source": [
    "### Model III: Support Vector Model"
   ]
  },
  {
   "cell_type": "code",
   "execution_count": 29,
   "id": "0115044d",
   "metadata": {},
   "outputs": [],
   "source": [
    "svm_model = SVC()"
   ]
  },
  {
   "cell_type": "code",
   "execution_count": 30,
   "id": "45001287",
   "metadata": {},
   "outputs": [
    {
     "data": {
      "text/plain": [
       "0.8639224079648196"
      ]
     },
     "execution_count": 30,
     "metadata": {},
     "output_type": "execute_result"
    }
   ],
   "source": [
    "svm_model_results = cross_validate(svm_model, X_tfidf_vectorized, y_encoded, cv=5, scoring='f1_macro')\n",
    "svm_model_results['test_score'].mean()"
   ]
  },
  {
   "cell_type": "markdown",
   "id": "799fd73b",
   "metadata": {},
   "source": [
    "### Model IV: Random Forest Classifier"
   ]
  },
  {
   "cell_type": "code",
   "execution_count": 31,
   "id": "ab626507",
   "metadata": {},
   "outputs": [],
   "source": [
    "rf_model = RandomForestClassifier(n_estimators=100, max_depth=50)"
   ]
  },
  {
   "cell_type": "code",
   "execution_count": 32,
   "id": "b660adb6",
   "metadata": {},
   "outputs": [
    {
     "data": {
      "text/plain": [
       "0.8386757180299611"
      ]
     },
     "execution_count": 32,
     "metadata": {},
     "output_type": "execute_result"
    }
   ],
   "source": [
    "#cross validating\n",
    "rf_model_results = cross_validate(rf_model, X_tfidf_vectorized, y_encoded, cv=5, scoring='f1_macro')\n",
    "rf_model_results['test_score'].mean()"
   ]
  },
  {
   "cell_type": "markdown",
   "id": "7027aa29",
   "metadata": {},
   "source": [
    "## Optimization"
   ]
  },
  {
   "cell_type": "markdown",
   "id": "0a6d6905",
   "metadata": {},
   "source": [
    "The models had scores between 0.84-0.86 with logestic regressor being the highest. I will fine tune the logestic regression model and use the optimized version for the final prediction."
   ]
  },
  {
   "cell_type": "markdown",
   "id": "88a468d9",
   "metadata": {},
   "source": [
    "**Optimization strategy:** I will attempt to optimize the number of features and the model hyper paramters in parallel to find the optimum combination. For the hyper paramters, I will adjust the regularization strength while trying different solvers."
   ]
  },
  {
   "cell_type": "code",
   "execution_count": 33,
   "id": "f0fab695",
   "metadata": {},
   "outputs": [],
   "source": [
    "lg_pipeline = Pipeline([('verctorizer', TfidfVectorizer()), ('model', LogisticRegression(max_iter=1000))])"
   ]
  },
  {
   "cell_type": "code",
   "execution_count": 34,
   "id": "2c3d087f",
   "metadata": {},
   "outputs": [],
   "source": [
    "#lg_pipeline.get_params()"
   ]
  },
  {
   "cell_type": "code",
   "execution_count": 35,
   "id": "961c28b2",
   "metadata": {},
   "outputs": [
    {
     "data": {
      "text/plain": [
       "(0.8688632863772332,\n",
       " {'model__C': 1, 'model__solver': 'lbfgs', 'verctorizer__max_features': 3000})"
      ]
     },
     "execution_count": 35,
     "metadata": {},
     "output_type": "execute_result"
    }
   ],
   "source": [
    "lg_pipeline_grid={'verctorizer__max_features': range(500,20000,500),\n",
    "                 'model__C':[0.25, 0.5, 0.75, 1, 1.5, 3, 4.5,13,20],\n",
    "                 'model__solver': ['lbfgs', 'liblinear', 'sag', 'saga']}\n",
    "lg_pipeline_search = GridSearchCV(lg_pipeline, lg_pipeline_grid, cv=5, scoring= 'f1_macro', n_jobs=-1)\n",
    "lg_pipeline_search.fit(X_clean, y_encoded)\n",
    "lg_pipeline_search.best_score_, lg_pipeline_search.best_params_"
   ]
  },
  {
   "cell_type": "code",
   "execution_count": 36,
   "id": "1c06adf6",
   "metadata": {},
   "outputs": [],
   "source": [
    "lg_pipeline_opt = lg_pipeline_search.best_estimator_"
   ]
  },
  {
   "cell_type": "markdown",
   "id": "8d008642",
   "metadata": {},
   "source": [
    "## Prediction"
   ]
  },
  {
   "cell_type": "markdown",
   "id": "65798495",
   "metadata": {},
   "source": [
    "Preprocessing test dataset"
   ]
  },
  {
   "cell_type": "code",
   "execution_count": 37,
   "id": "e782c214",
   "metadata": {},
   "outputs": [],
   "source": [
    "X_test_clean = data_test['description'].apply(clean)"
   ]
  },
  {
   "cell_type": "code",
   "execution_count": 38,
   "id": "354adf6b",
   "metadata": {},
   "outputs": [
    {
     "data": {
      "text/plain": [
       "'apex infosys leading provider automation networking system home business offering personalized unified smart home system automate control connected device including lighting audio video climate control intercom security founded advait thakur apex infosys currently focused making everyone life simple secure offering unprecedented visibility control entire house apex infosys india product service partnership deliver smarter home access ensuring energy greener smarter cheaper apex also involved artificial intelligence healthcare sector'"
      ]
     },
     "execution_count": 38,
     "metadata": {},
     "output_type": "execute_result"
    }
   ],
   "source": [
    "X_test_clean[0]"
   ]
  },
  {
   "cell_type": "code",
   "execution_count": 39,
   "id": "714ab6d4",
   "metadata": {},
   "outputs": [
    {
     "data": {
      "text/plain": [
       "(2500,)"
      ]
     },
     "execution_count": 39,
     "metadata": {},
     "output_type": "execute_result"
    }
   ],
   "source": [
    "X_test_clean.shape"
   ]
  },
  {
   "cell_type": "markdown",
   "id": "67c061d4",
   "metadata": {},
   "source": [
    "Training the optimized pipeline"
   ]
  },
  {
   "cell_type": "code",
   "execution_count": 40,
   "id": "f47c3fef",
   "metadata": {},
   "outputs": [
    {
     "data": {
      "text/html": [
       "<style>#sk-container-id-1 {color: black;background-color: white;}#sk-container-id-1 pre{padding: 0;}#sk-container-id-1 div.sk-toggleable {background-color: white;}#sk-container-id-1 label.sk-toggleable__label {cursor: pointer;display: block;width: 100%;margin-bottom: 0;padding: 0.3em;box-sizing: border-box;text-align: center;}#sk-container-id-1 label.sk-toggleable__label-arrow:before {content: \"▸\";float: left;margin-right: 0.25em;color: #696969;}#sk-container-id-1 label.sk-toggleable__label-arrow:hover:before {color: black;}#sk-container-id-1 div.sk-estimator:hover label.sk-toggleable__label-arrow:before {color: black;}#sk-container-id-1 div.sk-toggleable__content {max-height: 0;max-width: 0;overflow: hidden;text-align: left;background-color: #f0f8ff;}#sk-container-id-1 div.sk-toggleable__content pre {margin: 0.2em;color: black;border-radius: 0.25em;background-color: #f0f8ff;}#sk-container-id-1 input.sk-toggleable__control:checked~div.sk-toggleable__content {max-height: 200px;max-width: 100%;overflow: auto;}#sk-container-id-1 input.sk-toggleable__control:checked~label.sk-toggleable__label-arrow:before {content: \"▾\";}#sk-container-id-1 div.sk-estimator input.sk-toggleable__control:checked~label.sk-toggleable__label {background-color: #d4ebff;}#sk-container-id-1 div.sk-label input.sk-toggleable__control:checked~label.sk-toggleable__label {background-color: #d4ebff;}#sk-container-id-1 input.sk-hidden--visually {border: 0;clip: rect(1px 1px 1px 1px);clip: rect(1px, 1px, 1px, 1px);height: 1px;margin: -1px;overflow: hidden;padding: 0;position: absolute;width: 1px;}#sk-container-id-1 div.sk-estimator {font-family: monospace;background-color: #f0f8ff;border: 1px dotted black;border-radius: 0.25em;box-sizing: border-box;margin-bottom: 0.5em;}#sk-container-id-1 div.sk-estimator:hover {background-color: #d4ebff;}#sk-container-id-1 div.sk-parallel-item::after {content: \"\";width: 100%;border-bottom: 1px solid gray;flex-grow: 1;}#sk-container-id-1 div.sk-label:hover label.sk-toggleable__label {background-color: #d4ebff;}#sk-container-id-1 div.sk-serial::before {content: \"\";position: absolute;border-left: 1px solid gray;box-sizing: border-box;top: 0;bottom: 0;left: 50%;z-index: 0;}#sk-container-id-1 div.sk-serial {display: flex;flex-direction: column;align-items: center;background-color: white;padding-right: 0.2em;padding-left: 0.2em;position: relative;}#sk-container-id-1 div.sk-item {position: relative;z-index: 1;}#sk-container-id-1 div.sk-parallel {display: flex;align-items: stretch;justify-content: center;background-color: white;position: relative;}#sk-container-id-1 div.sk-item::before, #sk-container-id-1 div.sk-parallel-item::before {content: \"\";position: absolute;border-left: 1px solid gray;box-sizing: border-box;top: 0;bottom: 0;left: 50%;z-index: -1;}#sk-container-id-1 div.sk-parallel-item {display: flex;flex-direction: column;z-index: 1;position: relative;background-color: white;}#sk-container-id-1 div.sk-parallel-item:first-child::after {align-self: flex-end;width: 50%;}#sk-container-id-1 div.sk-parallel-item:last-child::after {align-self: flex-start;width: 50%;}#sk-container-id-1 div.sk-parallel-item:only-child::after {width: 0;}#sk-container-id-1 div.sk-dashed-wrapped {border: 1px dashed gray;margin: 0 0.4em 0.5em 0.4em;box-sizing: border-box;padding-bottom: 0.4em;background-color: white;}#sk-container-id-1 div.sk-label label {font-family: monospace;font-weight: bold;display: inline-block;line-height: 1.2em;}#sk-container-id-1 div.sk-label-container {text-align: center;}#sk-container-id-1 div.sk-container {/* jupyter's `normalize.less` sets `[hidden] { display: none; }` but bootstrap.min.css set `[hidden] { display: none !important; }` so we also need the `!important` here to be able to override the default hidden behavior on the sphinx rendered scikit-learn.org. See: https://github.com/scikit-learn/scikit-learn/issues/21755 */display: inline-block !important;position: relative;}#sk-container-id-1 div.sk-text-repr-fallback {display: none;}</style><div id=\"sk-container-id-1\" class=\"sk-top-container\"><div class=\"sk-text-repr-fallback\"><pre>Pipeline(steps=[(&#x27;verctorizer&#x27;, TfidfVectorizer(max_features=3000)),\n",
       "                (&#x27;model&#x27;, LogisticRegression(C=1, max_iter=1000))])</pre><b>In a Jupyter environment, please rerun this cell to show the HTML representation or trust the notebook. <br />On GitHub, the HTML representation is unable to render, please try loading this page with nbviewer.org.</b></div><div class=\"sk-container\" hidden><div class=\"sk-item sk-dashed-wrapped\"><div class=\"sk-label-container\"><div class=\"sk-label sk-toggleable\"><input class=\"sk-toggleable__control sk-hidden--visually\" id=\"sk-estimator-id-1\" type=\"checkbox\" ><label for=\"sk-estimator-id-1\" class=\"sk-toggleable__label sk-toggleable__label-arrow\">Pipeline</label><div class=\"sk-toggleable__content\"><pre>Pipeline(steps=[(&#x27;verctorizer&#x27;, TfidfVectorizer(max_features=3000)),\n",
       "                (&#x27;model&#x27;, LogisticRegression(C=1, max_iter=1000))])</pre></div></div></div><div class=\"sk-serial\"><div class=\"sk-item\"><div class=\"sk-estimator sk-toggleable\"><input class=\"sk-toggleable__control sk-hidden--visually\" id=\"sk-estimator-id-2\" type=\"checkbox\" ><label for=\"sk-estimator-id-2\" class=\"sk-toggleable__label sk-toggleable__label-arrow\">TfidfVectorizer</label><div class=\"sk-toggleable__content\"><pre>TfidfVectorizer(max_features=3000)</pre></div></div></div><div class=\"sk-item\"><div class=\"sk-estimator sk-toggleable\"><input class=\"sk-toggleable__control sk-hidden--visually\" id=\"sk-estimator-id-3\" type=\"checkbox\" ><label for=\"sk-estimator-id-3\" class=\"sk-toggleable__label sk-toggleable__label-arrow\">LogisticRegression</label><div class=\"sk-toggleable__content\"><pre>LogisticRegression(C=1, max_iter=1000)</pre></div></div></div></div></div></div></div>"
      ],
      "text/plain": [
       "Pipeline(steps=[('verctorizer', TfidfVectorizer(max_features=3000)),\n",
       "                ('model', LogisticRegression(C=1, max_iter=1000))])"
      ]
     },
     "execution_count": 40,
     "metadata": {},
     "output_type": "execute_result"
    }
   ],
   "source": [
    "lg_pipeline_opt.fit(X_clean, y_encoded)"
   ]
  },
  {
   "cell_type": "markdown",
   "id": "01e50a12",
   "metadata": {},
   "source": [
    "Predicting the target labels"
   ]
  },
  {
   "cell_type": "code",
   "execution_count": 41,
   "id": "b833001a",
   "metadata": {},
   "outputs": [],
   "source": [
    "y_predict_encoded = lg_pipeline_opt.predict(X_test_clean)\n",
    "y_predict_text = encoder.inverse_transform(y_predict_encoded)"
   ]
  },
  {
   "cell_type": "code",
   "execution_count": 42,
   "id": "9a2450e1",
   "metadata": {},
   "outputs": [
    {
     "data": {
      "text/plain": [
       "(2500,)"
      ]
     },
     "execution_count": 42,
     "metadata": {},
     "output_type": "execute_result"
    }
   ],
   "source": [
    "y_predict_text.shape"
   ]
  },
  {
   "cell_type": "markdown",
   "id": "7fc7843d",
   "metadata": {},
   "source": [
    "combining the target labels with the ids column"
   ]
  },
  {
   "cell_type": "code",
   "execution_count": 43,
   "id": "f295b51e",
   "metadata": {},
   "outputs": [],
   "source": [
    "result = pd.DataFrame(data_test['id'])\n",
    "result['Label'] = y_predict_text"
   ]
  },
  {
   "cell_type": "code",
   "execution_count": 44,
   "id": "07341a9e",
   "metadata": {},
   "outputs": [
    {
     "data": {
      "text/html": [
       "<div>\n",
       "<style scoped>\n",
       "    .dataframe tbody tr th:only-of-type {\n",
       "        vertical-align: middle;\n",
       "    }\n",
       "\n",
       "    .dataframe tbody tr th {\n",
       "        vertical-align: top;\n",
       "    }\n",
       "\n",
       "    .dataframe thead th {\n",
       "        text-align: right;\n",
       "    }\n",
       "</style>\n",
       "<table border=\"1\" class=\"dataframe\">\n",
       "  <thead>\n",
       "    <tr style=\"text-align: right;\">\n",
       "      <th></th>\n",
       "      <th>id</th>\n",
       "      <th>Label</th>\n",
       "    </tr>\n",
       "  </thead>\n",
       "  <tbody>\n",
       "    <tr>\n",
       "      <th>0</th>\n",
       "      <td>6593</td>\n",
       "      <td>PropTech</td>\n",
       "    </tr>\n",
       "    <tr>\n",
       "      <th>1</th>\n",
       "      <td>7219</td>\n",
       "      <td>ConstructionTech</td>\n",
       "    </tr>\n",
       "    <tr>\n",
       "      <th>2</th>\n",
       "      <td>5506</td>\n",
       "      <td>ConstructionTech</td>\n",
       "    </tr>\n",
       "    <tr>\n",
       "      <th>3</th>\n",
       "      <td>7251</td>\n",
       "      <td>Health &amp; Life Science Tech</td>\n",
       "    </tr>\n",
       "    <tr>\n",
       "      <th>4</th>\n",
       "      <td>6215</td>\n",
       "      <td>ManufacturingTech</td>\n",
       "    </tr>\n",
       "  </tbody>\n",
       "</table>\n",
       "</div>"
      ],
      "text/plain": [
       "     id                       Label\n",
       "0  6593                    PropTech\n",
       "1  7219            ConstructionTech\n",
       "2  5506            ConstructionTech\n",
       "3  7251  Health & Life Science Tech\n",
       "4  6215           ManufacturingTech"
      ]
     },
     "execution_count": 44,
     "metadata": {},
     "output_type": "execute_result"
    }
   ],
   "source": [
    "result.head()"
   ]
  },
  {
   "cell_type": "code",
   "execution_count": 48,
   "id": "aec6ccf7",
   "metadata": {},
   "outputs": [
    {
     "data": {
      "image/png": "[encoded data removed]",
      "text/plain": [
       "<Figure size 800x600 with 1 Axes>"
      ]
     },
     "metadata": {},
     "output_type": "display_data"
    }
   ],
   "source": [
    "fig = plt.figure(figsize=(8,6))\n",
    "result['Label'].value_counts().plot(kind='bar', ylim=0)\n",
    "plt.show()"
   ]
  },
  {
   "cell_type": "code",
   "execution_count": 50,
   "id": "37d610ac",
   "metadata": {},
   "outputs": [],
   "source": [
    "result.to_csv('NLP_Case_Study_MoatazAbdelmegid.csv', index=False)"
   ]
  }
 ],
 "metadata": {
  "kernelspec": {
   "display_name": "Python 3 (ipykernel)",
   "language": "python",
   "name": "python3"
  },
  "language_info": {
   "codemirror_mode": {
    "name": "ipython",
    "version": 3
   },
   "file_extension": ".py",
   "mimetype": "text/x-python",
   "name": "python",
   "nbconvert_exporter": "python",
   "pygments_lexer": "ipython3",
   "version": "3.10.6"
  },
  "toc": {
   "base_numbering": 1,
   "nav_menu": {
    "height": "203.991px",
    "width": "261.989px"
   },
   "number_sections": true,
   "sideBar": true,
   "skip_h1_title": false,
   "title_cell": "Table of Contents",
   "title_sidebar": "Contents",
   "toc_cell": false,
   "toc_position": {
    "height": "calc(100% - 180px)",
    "left": "10px",
    "top": "150px",
    "width": "349.091px"
   },
   "toc_section_display": true,
   "toc_window_display": true
  }
 },
 "nbformat": 4,
 "nbformat_minor": 5
}
